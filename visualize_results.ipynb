{
 "cells": [
  {
   "cell_type": "code",
   "execution_count": null,
   "metadata": {},
   "outputs": [],
   "source": [
    "import numpy as np\n",
    "import pandas as pd\n",
    "import matplotlib.pyplot as plt\n",
    "import baselines.common.plot_util as pu\n",
    "import scipy"
   ]
  },
  {
   "cell_type": "markdown",
   "metadata": {},
   "source": [
    "# Choose folders to load"
   ]
  },
  {
   "cell_type": "code",
   "execution_count": null,
   "metadata": {},
   "outputs": [],
   "source": [
    "folders_to_load = {\n",
    "'dqn':['./save/2019-06-01.23:57:30/progress.csv',\n",
    "       './save/2019-06-02.00:03:53/progress.csv',\n",
    "       './save/2019-06-02.00:06:59/progress.csv',\n",
    "      ],\n",
    "'dueling':['./save/2019-06-02.00:22:31/progress.csv',\n",
    "           './save/2019-06-02.00:25:26/progress.csv',\n",
    "           './save/2019-06-02.00:28:26/progress.csv',\n",
    "      ]\n",
    "\n",
    "}\n",
    "folders_to_load"
   ]
  },
  {
   "cell_type": "code",
   "execution_count": null,
   "metadata": {},
   "outputs": [],
   "source": [
    "cmap = ['green','darkorange','red','blue','purple','yellow']\n",
    "assert len(cmap) >= len(folders_to_load)"
   ]
  },
  {
   "cell_type": "code",
   "execution_count": null,
   "metadata": {},
   "outputs": [],
   "source": []
  },
  {
   "cell_type": "markdown",
   "metadata": {},
   "source": [
    "# Set params"
   ]
  },
  {
   "cell_type": "code",
   "execution_count": null,
   "metadata": {},
   "outputs": [],
   "source": [
    "max_timestep = 20000\n",
    "n_steps_to_resample = 500\n",
    "steps_resampled = np.linspace(0, max_timestep, n_steps_to_resample, endpoint=True)\n"
   ]
  },
  {
   "cell_type": "code",
   "execution_count": null,
   "metadata": {},
   "outputs": [],
   "source": []
  },
  {
   "cell_type": "markdown",
   "metadata": {},
   "source": [
    "# Plot raw data\n"
   ]
  },
  {
   "cell_type": "code",
   "execution_count": null,
   "metadata": {},
   "outputs": [],
   "source": [
    "# Without average "
   ]
  },
  {
   "cell_type": "code",
   "execution_count": null,
   "metadata": {},
   "outputs": [],
   "source": [
    "c_idx=-1\n",
    "plt.figure( figsize=(10,10) )\n",
    "\n",
    "for group, path_to_logs in folders_to_load.items():\n",
    "    print('== ',group,' ==')\n",
    "    c_idx+=1\n",
    "    \n",
    "    for idx,path_to_log in enumerate(path_to_logs): \n",
    "        \n",
    "        # Get raw curves\n",
    "        results=pd.read_csv(path_to_log, sep=',',header=0)\n",
    "        rewards = np.reshape(results['mean 100 episode reward'].values, [-1,1])\n",
    "        episodes = np.reshape(results['episodes'].values, [-1,1])\n",
    "        steps = results['steps'].values\n",
    "        episode_reward = results['episode_reward'].values\n",
    "        # Resample curves\n",
    "        steps_resampled = np.linspace(0, max_timestep, n_steps_to_resample, endpoint=True)\n",
    "        episode_reward_resampled = np.interp(steps_resampled, steps, episode_reward)\n",
    "        # Reshape\n",
    "        steps = np.reshape(steps,[-1,1])\n",
    "        steps_resampled = np.reshape(steps_resampled,[-1,1])\n",
    "        episode_reward = np.reshape(episode_reward,[-1,1])\n",
    "        episode_reward_resampled = np.reshape(episode_reward_resampled,[-1,1])\n",
    "\n",
    "        # Plot resampled curves\n",
    "        if idx==0:\n",
    "            plt.plot(steps_resampled, episode_reward_resampled,c=cmap[c_idx],label=group)\n",
    "        else: \n",
    "            plt.plot(steps_resampled, episode_reward_resampled,c=cmap[c_idx])\n",
    "\n",
    "plt.xlim((0,max_timestep))\n",
    "plt.legend()\n",
    "plt.show()\n",
    "\n"
   ]
  },
  {
   "cell_type": "code",
   "execution_count": null,
   "metadata": {},
   "outputs": [],
   "source": [
    "# With average"
   ]
  },
  {
   "cell_type": "code",
   "execution_count": null,
   "metadata": {},
   "outputs": [],
   "source": [
    "c_idx=-1\n",
    "plt.figure( figsize=(10,10) )\n",
    "\n",
    "for group, path_to_logs in folders_to_load.items():\n",
    "    c_idx+=1\n",
    "    \n",
    "    episode_reward_resampled_global = None\n",
    "\n",
    "    for path_to_log in path_to_logs: \n",
    "        \n",
    "        # Get raw curves\n",
    "        results=pd.read_csv(path_to_log, sep=',',header=0)\n",
    "        rewards = np.reshape(results['mean 100 episode reward'].values, [-1,1])\n",
    "        episodes = np.reshape(results['episodes'].values, [-1,1])\n",
    "        steps = results['steps'].values\n",
    "        episode_reward = results['episode_reward'].values\n",
    "        # Resample curves\n",
    "        steps_resampled = np.linspace(0, max_timestep, n_steps_to_resample, endpoint=True)\n",
    "        episode_reward_resampled = np.interp(steps_resampled, steps, episode_reward)\n",
    "        # Reshape\n",
    "        steps = np.reshape(steps,[-1,1])\n",
    "        steps_resampled = np.reshape(steps_resampled,[-1,1])\n",
    "        episode_reward = np.reshape(episode_reward,[-1,1])\n",
    "        episode_reward_resampled = np.reshape(episode_reward_resampled,[-1,1])\n",
    "\n",
    "        episode_reward_resampled_global = episode_reward_resampled if episode_reward_resampled_global is None else np.concatenate([episode_reward_resampled_global,episode_reward_resampled],axis=1)\n",
    "\n",
    "    # Get mean and std of resampled curves\n",
    "    r_mean = np.mean(episode_reward_resampled_global,axis=1)\n",
    "    r_std = np.std(episode_reward_resampled_global,axis=1)\n",
    "    \n",
    "    # Plot mean resampled curves\n",
    "    plt.legend(group)\n",
    "    plt.plot(steps_resampled, r_mean,c=cmap[c_idx],label=group)\n",
    "    \n",
    "    # Plot std deviation resampled curves\n",
    "    plt.fill_between(steps_resampled.flatten(), r_mean-r_std, r_mean+r_std, alpha=0.5, edgecolor=cmap[c_idx], facecolor=cmap[c_idx])\n",
    "\n",
    "        \n",
    "plt.xlim((0,max_timestep))\n",
    "plt.legend()\n",
    "plt.show()\n",
    "\n"
   ]
  },
  {
   "cell_type": "code",
   "execution_count": null,
   "metadata": {},
   "outputs": [],
   "source": []
  },
  {
   "cell_type": "markdown",
   "metadata": {},
   "source": [
    "# Plot smoothed data\n"
   ]
  },
  {
   "cell_type": "code",
   "execution_count": null,
   "metadata": {},
   "outputs": [],
   "source": [
    "radius=10"
   ]
  },
  {
   "cell_type": "code",
   "execution_count": null,
   "metadata": {},
   "outputs": [],
   "source": [
    "# Without average"
   ]
  },
  {
   "cell_type": "code",
   "execution_count": null,
   "metadata": {},
   "outputs": [],
   "source": [
    "c_idx=-1\n",
    "plt.figure( figsize=(10,10) )\n",
    "\n",
    "for group, path_to_logs in folders_to_load.items():\n",
    "    c_idx+=1\n",
    "    \n",
    "    for idx,path_to_log in enumerate(path_to_logs): \n",
    "        \n",
    "        # Get raw curves\n",
    "        results=pd.read_csv(path_to_log, sep=',',header=0)\n",
    "        rewards = np.reshape(results['mean 100 episode reward'].values, [-1,1])\n",
    "        episodes = np.reshape(results['episodes'].values, [-1,1])\n",
    "        steps = results['steps'].values\n",
    "        episode_reward = results['episode_reward'].values\n",
    "        # Resample curves\n",
    "        steps_resampled = np.linspace(0, max_timestep, n_steps_to_resample, endpoint=True)\n",
    "        episode_reward_resampled = np.interp(steps_resampled, steps, episode_reward)\n",
    "        # Reshape\n",
    "        steps = np.reshape(steps,[-1,1])\n",
    "        steps_resampled = np.reshape(steps_resampled,[-1,1])\n",
    "        episode_reward = np.reshape(episode_reward,[-1,1])\n",
    "\n",
    "        # Smooth resampled curves\n",
    "        episode_reward_resampled_smoothed = pu.smooth(episode_reward_resampled,radius=radius)\n",
    "        episode_reward_resampled_smoothed = np.reshape(episode_reward_resampled_smoothed,[-1,1])\n",
    "\n",
    "        # Plot resampled curves\n",
    "        if idx==0:\n",
    "            plt.plot(steps_resampled, episode_reward_resampled_smoothed,c=cmap[c_idx],label=group)\n",
    "        else: \n",
    "            plt.plot(steps_resampled, episode_reward_resampled_smoothed,c=cmap[c_idx])\n",
    "                    \n",
    "plt.xlim((0,max_timestep))\n",
    "plt.legend()\n",
    "plt.show()\n",
    "\n"
   ]
  },
  {
   "cell_type": "code",
   "execution_count": null,
   "metadata": {},
   "outputs": [],
   "source": [
    "# With average"
   ]
  },
  {
   "cell_type": "code",
   "execution_count": null,
   "metadata": {},
   "outputs": [],
   "source": [
    "c_idx=-1\n",
    "plt.figure( figsize=(10,10) )\n",
    "\n",
    "for group, path_to_logs in folders_to_load.items():\n",
    "    c_idx+=1\n",
    "    \n",
    "    episode_reward_resampled_global = None\n",
    "\n",
    "    for path_to_log in path_to_logs: \n",
    "        \n",
    "        # Get raw curves\n",
    "        results=pd.read_csv(path_to_log, sep=',',header=0)\n",
    "        rewards = np.reshape(results['mean 100 episode reward'].values, [-1,1])\n",
    "        episodes = np.reshape(results['episodes'].values, [-1,1])\n",
    "        steps = results['steps'].values\n",
    "        episode_reward = results['episode_reward'].values\n",
    "        # Resample curves\n",
    "        steps_resampled = np.linspace(0, max_timestep, n_steps_to_resample, endpoint=True)\n",
    "        episode_reward_resampled = np.interp(steps_resampled, steps, episode_reward)\n",
    "        # Reshape\n",
    "        steps = np.reshape(steps,[-1,1])\n",
    "        steps_resampled = np.reshape(steps_resampled,[-1,1])\n",
    "        episode_reward = np.reshape(episode_reward,[-1,1])\n",
    "\n",
    "        # Smooth resampled curves\n",
    "        episode_reward_resampled_smoothed = pu.smooth(episode_reward_resampled,radius=radius)\n",
    "        episode_reward_resampled_smoothed = np.reshape(episode_reward_resampled_smoothed,[-1,1])\n",
    "\n",
    "        episode_reward_resampled_global = episode_reward_resampled_smoothed if episode_reward_resampled_global is None else np.concatenate([episode_reward_resampled_global,episode_reward_resampled_smoothed],axis=1)\n",
    "\n",
    "    # Get mean and std of resampled curves\n",
    "    print('episode_reward_resampled_global',episode_reward_resampled_global.shape)\n",
    "    r_mean = np.mean(episode_reward_resampled_global,axis=1)\n",
    "    r_std = np.std(episode_reward_resampled_global,axis=1)\n",
    "    print('r_mean',r_mean.shape)\n",
    "    print('r_std',r_std.shape)\n",
    "    \n",
    "    # Plot mean resampled curves\n",
    "    plt.plot(steps_resampled, r_mean,c=cmap[c_idx],label=group)\n",
    "    \n",
    "    # Plot std deviation resampled curves\n",
    "    plt.fill_between(steps_resampled.flatten(), r_mean-r_std, r_mean+r_std, alpha=0.5, edgecolor=cmap[c_idx], facecolor=cmap[c_idx])\n",
    "\n",
    "        \n",
    "plt.xlim((0,max_timestep))\n",
    "plt.legend()\n",
    "plt.show()\n",
    "\n"
   ]
  },
  {
   "cell_type": "code",
   "execution_count": null,
   "metadata": {},
   "outputs": [],
   "source": []
  },
  {
   "cell_type": "code",
   "execution_count": null,
   "metadata": {},
   "outputs": [],
   "source": [
    "# TODO: filter out episodes whose length is too long..."
   ]
  },
  {
   "cell_type": "code",
   "execution_count": null,
   "metadata": {},
   "outputs": [],
   "source": []
  },
  {
   "cell_type": "code",
   "execution_count": null,
   "metadata": {},
   "outputs": [],
   "source": []
  },
  {
   "cell_type": "code",
   "execution_count": null,
   "metadata": {},
   "outputs": [],
   "source": []
  }
 ],
 "metadata": {
  "kernelspec": {
   "display_name": "Python 3",
   "language": "python",
   "name": "python3"
  },
  "language_info": {
   "codemirror_mode": {
    "name": "ipython",
    "version": 3
   },
   "file_extension": ".py",
   "mimetype": "text/x-python",
   "name": "python",
   "nbconvert_exporter": "python",
   "pygments_lexer": "ipython3",
   "version": "3.7.3"
  }
 },
 "nbformat": 4,
 "nbformat_minor": 2
}
