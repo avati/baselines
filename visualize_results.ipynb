{
 "cells": [
  {
   "cell_type": "code",
   "execution_count": 23,
   "metadata": {},
   "outputs": [],
   "source": [
    "import os.path\n",
    "import numpy as np\n",
    "import pandas as pd\n",
    "import matplotlib.pyplot as plt\n",
    "import baselines.common.plot_util as pu\n",
    "import scipy"
   ]
  },
  {
   "cell_type": "markdown",
   "metadata": {},
   "source": [
    "# Choose folders to load"
   ]
  },
  {
   "cell_type": "code",
   "execution_count": 24,
   "metadata": {
    "scrolled": true
   },
   "outputs": [
    {
     "data": {
      "text/plain": [
       "{'dqn-predict-variance': ['./save/2019-06-08.17:30:37/progress.csv',\n",
       "  './save/2019-06-08.17:30:41/progress.csv',\n",
       "  './save/2019-06-08.17:30:43/progress.csv',\n",
       "  './save/2019-06-08.17:30:47/progress.csv',\n",
       "  './save/2019-06-08.17:30:49/progress.csv',\n",
       "  './save/2019-06-08.17:30:52/progress.csv',\n",
       "  './save/2019-06-08.17:30:55/progress.csv',\n",
       "  './save/2019-06-08.17:30:58/progress.csv',\n",
       "  './save/2019-06-08.17:31:01/progress.csv',\n",
       "  './save/2019-06-08.17:31:04/progress.csv']}"
      ]
     },
     "execution_count": 24,
     "metadata": {},
     "output_type": "execute_result"
    }
   ],
   "source": [
    "folders_to_load = {\n",
    "'dqn-predict-variance':[\n",
    "    \n",
    "\n",
    "    './save/2019-06-08.17:30:37/progress.csv',\n",
    "    './save/2019-06-08.17:30:41/progress.csv',\n",
    "    './save/2019-06-08.17:30:43/progress.csv',\n",
    "    './save/2019-06-08.17:30:47/progress.csv',\n",
    "    './save/2019-06-08.17:30:49/progress.csv',\n",
    "    './save/2019-06-08.17:30:52/progress.csv',\n",
    "    './save/2019-06-08.17:30:55/progress.csv',\n",
    "    './save/2019-06-08.17:30:58/progress.csv',\n",
    "    './save/2019-06-08.17:31:01/progress.csv',\n",
    "    './save/2019-06-08.17:31:04/progress.csv',\n",
    "\n",
    "       #'./save/2019-06-08.07:59:22/progress.csv',\n",
    "       #'./save/2019-06-08.08:07:16/progress.csv',\n",
    "       #'./save/2019-06-08.08:14:44/progress.csv',\n",
    "       #'./save/2019-06-08.08:38:34/progress.csv',\n",
    "                        \n",
    "    \n",
    "       \n",
    "       \n",
    "       \n",
    "      ],\n",
    "#'dueling':['./save/2019-06-02.00:22:31/progress.csv',\n",
    "#           './save/2019-06-02.00:25:26/progress.csv',\n",
    "#           './save/2019-06-02.00:28:26/progress.csv',\n",
    "#      ]\n",
    "\n",
    "}\n",
    "folders_to_load"
   ]
  },
  {
   "cell_type": "code",
   "execution_count": 25,
   "metadata": {},
   "outputs": [],
   "source": [
    "cmap = ['green','darkorange','red','blue','purple','yellow']\n",
    "assert len(cmap) >= len(folders_to_load)"
   ]
  },
  {
   "cell_type": "code",
   "execution_count": null,
   "metadata": {},
   "outputs": [],
   "source": []
  },
  {
   "cell_type": "markdown",
   "metadata": {},
   "source": [
    "# Set params"
   ]
  },
  {
   "cell_type": "code",
   "execution_count": 26,
   "metadata": {},
   "outputs": [],
   "source": [
    "max_timestep = 20000\n",
    "n_steps_to_resample = 500\n",
    "steps_resampled = np.linspace(0, max_timestep, n_steps_to_resample, endpoint=True)\n"
   ]
  },
  {
   "cell_type": "code",
   "execution_count": null,
   "metadata": {},
   "outputs": [],
   "source": []
  },
  {
   "cell_type": "markdown",
   "metadata": {},
   "source": [
    "# Plot raw data\n"
   ]
  },
  {
   "cell_type": "code",
   "execution_count": 27,
   "metadata": {},
   "outputs": [],
   "source": [
    "# Without average "
   ]
  },
  {
   "cell_type": "code",
   "execution_count": 28,
   "metadata": {
    "scrolled": false
   },
   "outputs": [
    {
     "name": "stdout",
     "output_type": "stream",
     "text": [
      "==  dqn-predict-variance  ==\n",
      "Error: it is possible that pd.read_csv is empty: ./save/2019-06-08.17:30:52/progress.csv\n"
     ]
    },
    {
     "data": {
      "image/png": "[encoded data removed]",
      "text/plain": [
       "<Figure size 720x720 with 1 Axes>"
      ]
     },
     "metadata": {
      "needs_background": "light"
     },
     "output_type": "display_data"
    }
   ],
   "source": [
    "c_idx=-1\n",
    "plt.figure( figsize=(10,10) )\n",
    "\n",
    "for group, path_to_logs in folders_to_load.items():\n",
    "    print('== ',group,' ==')\n",
    "    c_idx+=1\n",
    "    \n",
    "    for idx,path_to_log in enumerate(path_to_logs): \n",
    "        \n",
    "        # check if exists, otherwise continue\n",
    "        if not os.path.exists(path_to_log):\n",
    "            print('results do not exist: ',path_to_log)\n",
    "            continue\n",
    "            \n",
    "        # Get raw curves\n",
    "        try:\n",
    "            results=pd.read_csv(path_to_log, sep=',',header=0)\n",
    "        except: \n",
    "            print('Error: it is possible that pd.read_csv is empty:',path_to_log)\n",
    "            continue\n",
    "        rewards = results['mean 100 episode reward'].values\n",
    "        episodes = np.reshape(results['episodes'].values, [-1,1])\n",
    "        steps = results['steps'].values\n",
    "        episode_reward = results['episode_reward'].values\n",
    "        # Resample curves\n",
    "        steps_resampled = np.linspace(0, max_timestep, n_steps_to_resample, endpoint=True)\n",
    "        episode_reward_resampled = np.interp(steps_resampled, steps, episode_reward)\n",
    "        rewards_resampled = np.interp(steps_resampled, steps, rewards)\n",
    "        # Reshape\n",
    "        steps = np.reshape(steps,[-1,1])\n",
    "        steps_resampled = np.reshape(steps_resampled,[-1,1])\n",
    "        episode_reward = np.reshape(episode_reward,[-1,1])\n",
    "        episode_reward_resampled = np.reshape(episode_reward_resampled,[-1,1])\n",
    "        rewards_resampled = np.reshape(rewards_resampled,[-1,1])\n",
    "\n",
    "        # Plot resampled curves\n",
    "        if idx==0:\n",
    "            plt.plot(steps_resampled, rewards_resampled,c=cmap[c_idx],label=group)\n",
    "        else: \n",
    "            plt.plot(steps_resampled, rewards_resampled,c=cmap[c_idx])\n",
    "\n",
    "plt.xlim((0,max_timestep))\n",
    "plt.legend()\n",
    "\n",
    "plt.xlabel('steps')\n",
    "\n",
    "#plt.ylabel('episode reward')\n",
    "plt.ylabel('running avg reward over past 100 episode')\n",
    "\n",
    "plt.show()\n",
    "\n"
   ]
  },
  {
   "cell_type": "code",
   "execution_count": 29,
   "metadata": {},
   "outputs": [],
   "source": [
    "# With average"
   ]
  },
  {
   "cell_type": "code",
   "execution_count": 30,
   "metadata": {},
   "outputs": [
    {
     "name": "stdout",
     "output_type": "stream",
     "text": [
      "Error: it is possible that pd.read_csv is empty: ./save/2019-06-08.17:30:52/progress.csv\n"
     ]
    },
    {
     "data": {
      "image/png": "[encoded data removed]",
      "text/plain": [
       "<Figure size 720x720 with 1 Axes>"
      ]
     },
     "metadata": {
      "needs_background": "light"
     },
     "output_type": "display_data"
    }
   ],
   "source": [
    "c_idx=-1\n",
    "plt.figure( figsize=(10,10) )\n",
    "\n",
    "for group, path_to_logs in folders_to_load.items():\n",
    "    c_idx+=1\n",
    "    \n",
    "    episode_reward_resampled_global = None\n",
    "    rewards_resampled_global = None\n",
    "\n",
    "    for path_to_log in path_to_logs: \n",
    "        \n",
    "        # check if exists, otherwise continue\n",
    "        if not os.path.exists(path_to_log):\n",
    "            print('results do not exist: ',path_to_log)\n",
    "            continue\n",
    "            \n",
    "        # Get raw curves\n",
    "        try:\n",
    "            results=pd.read_csv(path_to_log, sep=',',header=0)\n",
    "        except: \n",
    "            print('Error: it is possible that pd.read_csv is empty:',path_to_log)\n",
    "            continue\n",
    "\n",
    "        # Get raw curves\n",
    "        rewards = results['mean 100 episode reward'].values\n",
    "        episodes = np.reshape(results['episodes'].values, [-1,1])\n",
    "        steps = results['steps'].values\n",
    "        episode_reward = results['episode_reward'].values\n",
    "        # Resample curves\n",
    "        steps_resampled = np.linspace(0, max_timestep, n_steps_to_resample, endpoint=True)\n",
    "        episode_reward_resampled = np.interp(steps_resampled, steps, episode_reward)\n",
    "        rewards_resampled = np.interp(steps_resampled, steps, rewards)\n",
    "        # Reshape\n",
    "        steps = np.reshape(steps,[-1,1])\n",
    "        steps_resampled = np.reshape(steps_resampled,[-1,1])\n",
    "        episode_reward = np.reshape(episode_reward,[-1,1])\n",
    "        episode_reward_resampled = np.reshape(episode_reward_resampled,[-1,1])\n",
    "        rewards_resampled = np.reshape(rewards_resampled,[-1,1])\n",
    "\n",
    "        episode_reward_resampled_global = episode_reward_resampled if episode_reward_resampled_global is None else np.concatenate([episode_reward_resampled_global,episode_reward_resampled],axis=1)\n",
    "        rewards_resampled_global = rewards_resampled if rewards_resampled_global is None else np.concatenate([rewards_resampled_global,rewards_resampled],axis=1)\n",
    "\n",
    "    # Get mean and std of resampled curves\n",
    "    r_mean_ep_r = np.mean(episode_reward_resampled_global,axis=1)\n",
    "    r_std_ep_r = np.std(episode_reward_resampled_global,axis=1)\n",
    "    r_mean_r = np.mean(rewards_resampled_global,axis=1)\n",
    "    r_std_r = np.std(rewards_resampled_global,axis=1)\n",
    "    \n",
    "    # Plot mean resampled curves\n",
    "    plt.legend(group)\n",
    "    #plt.plot(steps_resampled, r_mean_ep_r,c=cmap[c_idx],label=group)\n",
    "    plt.plot(steps_resampled, r_mean_r,c=cmap[c_idx],label=group)\n",
    "    \n",
    "    # Plot std deviation resampled curves\n",
    "    #plt.fill_between(steps_resampled.flatten(), r_mean_ep_r-r_std_ep_r, r_mean_ep_r+r_std_ep_r, alpha=0.5, edgecolor=cmap[c_idx], facecolor=cmap[c_idx])\n",
    "    plt.fill_between(steps_resampled.flatten(), r_mean_r-r_std_r, r_mean_r+r_std_r, alpha=0.5, edgecolor=cmap[c_idx], facecolor=cmap[c_idx])\n",
    "\n",
    "        \n",
    "plt.xlim((0,max_timestep))\n",
    "plt.legend()\n",
    "\n",
    "plt.xlabel('steps')\n",
    "\n",
    "#plt.ylabel('episode reward')\n",
    "plt.ylabel('running avg reward over past 100 episode')\n",
    "\n",
    "plt.show()\n",
    "\n"
   ]
  },
  {
   "cell_type": "code",
   "execution_count": null,
   "metadata": {},
   "outputs": [],
   "source": []
  },
  {
   "cell_type": "markdown",
   "metadata": {},
   "source": [
    "# Plot smoothed data\n"
   ]
  },
  {
   "cell_type": "code",
   "execution_count": 31,
   "metadata": {},
   "outputs": [],
   "source": [
    "radius=10"
   ]
  },
  {
   "cell_type": "code",
   "execution_count": 32,
   "metadata": {},
   "outputs": [],
   "source": [
    "# Without average"
   ]
  },
  {
   "cell_type": "code",
   "execution_count": 33,
   "metadata": {},
   "outputs": [
    {
     "name": "stdout",
     "output_type": "stream",
     "text": [
      "Error: it is possible that pd.read_csv is empty: ./save/2019-06-08.17:30:52/progress.csv\n"
     ]
    },
    {
     "data": {
      "image/png": "[encoded data removed]",
      "text/plain": [
       "<Figure size 720x720 with 1 Axes>"
      ]
     },
     "metadata": {
      "needs_background": "light"
     },
     "output_type": "display_data"
    }
   ],
   "source": [
    "c_idx=-1\n",
    "plt.figure( figsize=(10,10) )\n",
    "\n",
    "for group, path_to_logs in folders_to_load.items():\n",
    "    c_idx+=1\n",
    "    \n",
    "    for idx,path_to_log in enumerate(path_to_logs): \n",
    "        \n",
    "        # check if exists, otherwise continue\n",
    "        if not os.path.exists(path_to_log):\n",
    "            print('results do not exist: ',path_to_log)\n",
    "            continue\n",
    "            \n",
    "        # Get raw curves\n",
    "        try:\n",
    "            results=pd.read_csv(path_to_log, sep=',',header=0)\n",
    "        except: \n",
    "            print('Error: it is possible that pd.read_csv is empty:',path_to_log)\n",
    "            continue\n",
    "\n",
    "        # Get raw curves\n",
    "        rewards = results['mean 100 episode reward'].values\n",
    "        episodes = np.reshape(results['episodes'].values, [-1,1])\n",
    "        steps = results['steps'].values\n",
    "        episode_reward = results['episode_reward'].values\n",
    "        # Resample curves\n",
    "        steps_resampled = np.linspace(0, max_timestep, n_steps_to_resample, endpoint=True)\n",
    "        episode_reward_resampled = np.interp(steps_resampled, steps, episode_reward)\n",
    "        rewards_resampled = np.interp(steps_resampled, steps, rewards)\n",
    "        # Reshape\n",
    "        steps = np.reshape(steps,[-1,1])\n",
    "        steps_resampled = np.reshape(steps_resampled,[-1,1])\n",
    "        episode_reward = np.reshape(episode_reward,[-1,1])\n",
    "        rewards = np.reshape(rewards,[-1,1])\n",
    "\n",
    "        # Smooth resampled curves\n",
    "        episode_reward_resampled_smoothed = pu.smooth(episode_reward_resampled,radius=radius)\n",
    "        episode_reward_resampled_smoothed = np.reshape(episode_reward_resampled_smoothed,[-1,1])\n",
    "\n",
    "        rewards_resampled_smoothed = pu.smooth(rewards_resampled,radius=radius)\n",
    "        rewards_resampled_smoothed = np.reshape(rewards_resampled_smoothed,[-1,1])\n",
    "\n",
    "        # Plot resampled curves\n",
    "        if idx==0:\n",
    "            plt.plot(steps_resampled, rewards_resampled_smoothed,c=cmap[c_idx],label=group)\n",
    "        else: \n",
    "            plt.plot(steps_resampled, rewards_resampled_smoothed,c=cmap[c_idx])\n",
    "            \n",
    "plt.xlim((0,max_timestep))\n",
    "plt.legend()\n",
    "plt.xlabel('steps')\n",
    "\n",
    "#plt.ylabel('episode reward')\n",
    "plt.ylabel('running avg reward over past 100 episode')\n",
    "\n",
    "plt.show()\n",
    "\n"
   ]
  },
  {
   "cell_type": "code",
   "execution_count": 34,
   "metadata": {},
   "outputs": [],
   "source": [
    "# With average"
   ]
  },
  {
   "cell_type": "code",
   "execution_count": 35,
   "metadata": {},
   "outputs": [
    {
     "name": "stdout",
     "output_type": "stream",
     "text": [
      "Error: it is possible that pd.read_csv is empty: ./save/2019-06-08.17:30:52/progress.csv\n"
     ]
    },
    {
     "data": {
      "image/png": "[encoded data removed]",
      "text/plain": [
       "<Figure size 720x720 with 1 Axes>"
      ]
     },
     "metadata": {
      "needs_background": "light"
     },
     "output_type": "display_data"
    }
   ],
   "source": [
    "c_idx=-1\n",
    "plt.figure( figsize=(10,10) )\n",
    "\n",
    "for group, path_to_logs in folders_to_load.items():\n",
    "    c_idx+=1\n",
    "    \n",
    "    episode_reward_resampled_global = None\n",
    "    rewards_resampled_global = None\n",
    "\n",
    "    for path_to_log in path_to_logs: \n",
    "        \n",
    "        # check if exists, otherwise continue\n",
    "        if not os.path.exists(path_to_log):\n",
    "            print('results do not exist: ',path_to_log)\n",
    "            continue\n",
    "            \n",
    "        # Get raw curves\n",
    "        try:\n",
    "            results=pd.read_csv(path_to_log, sep=',',header=0)\n",
    "        except: \n",
    "            print('Error: it is possible that pd.read_csv is empty:',path_to_log)\n",
    "            continue\n",
    "\n",
    "        # Get raw curves\n",
    "        rewards = results['mean 100 episode reward'].values\n",
    "        episodes = np.reshape(results['episodes'].values, [-1,1])\n",
    "        steps = results['steps'].values\n",
    "        episode_reward = results['episode_reward'].values\n",
    "        # Resample curves\n",
    "        steps_resampled = np.linspace(0, max_timestep, n_steps_to_resample, endpoint=True)\n",
    "        episode_reward_resampled = np.interp(steps_resampled, steps, episode_reward)\n",
    "        rewards_resampled = np.interp(steps_resampled, steps, rewards)\n",
    "        # Reshape\n",
    "        steps = np.reshape(steps,[-1,1])\n",
    "        steps_resampled = np.reshape(steps_resampled,[-1,1])\n",
    "        episode_reward = np.reshape(episode_reward,[-1,1])\n",
    "        rewards_resampled = np.reshape(rewards_resampled,[-1,1])\n",
    "\n",
    "        # Smooth resampled curves\n",
    "        episode_reward_resampled_smoothed = pu.smooth(episode_reward_resampled,radius=radius)\n",
    "        episode_reward_resampled_smoothed = np.reshape(episode_reward_resampled_smoothed,[-1,1])\n",
    "\n",
    "        episode_reward_resampled_global = episode_reward_resampled_smoothed if episode_reward_resampled_global is None else np.concatenate([episode_reward_resampled_global,episode_reward_resampled_smoothed],axis=1)\n",
    "        rewards_resampled_global = rewards_resampled if rewards_resampled_global is None else np.concatenate([rewards_resampled_global,rewards_resampled],axis=1)\n",
    "\n",
    "    # Get mean and std of resampled curves\n",
    "    \n",
    "    r_mean_ep_r = np.mean(episode_reward_resampled_global,axis=1)\n",
    "    r_std_ep_r = np.std(episode_reward_resampled_global,axis=1)\n",
    "    r_mean_r = np.mean(rewards_resampled_global,axis=1)\n",
    "    r_std_r = np.std(rewards_resampled_global,axis=1)\n",
    "    \n",
    "    # Plot mean resampled curves\n",
    "    plt.legend(group)\n",
    "    #plt.plot(steps_resampled, r_mean_ep_r,c=cmap[c_idx],label=group)\n",
    "    plt.plot(steps_resampled, r_mean_r,c=cmap[c_idx],label=group)\n",
    "    \n",
    "    # Plot std deviation resampled curves\n",
    "    #plt.fill_between(steps_resampled.flatten(), r_mean_ep_r-r_std_ep_r, r_mean_ep_r+r_std_ep_r, alpha=0.5, edgecolor=cmap[c_idx], facecolor=cmap[c_idx])\n",
    "    plt.fill_between(steps_resampled.flatten(), r_mean_r-r_std_r, r_mean_r+r_std_r, alpha=0.5, edgecolor=cmap[c_idx], facecolor=cmap[c_idx])\n",
    "\n",
    "    \n",
    "\n",
    "        \n",
    "plt.xlim((0,max_timestep))\n",
    "plt.legend()\n",
    "plt.xlabel('steps')\n",
    "\n",
    "#plt.ylabel('episode reward')\n",
    "plt.ylabel('running avg reward over past 100 episode')\n",
    "\n",
    "plt.show()\n",
    "\n"
   ]
  },
  {
   "cell_type": "code",
   "execution_count": null,
   "metadata": {},
   "outputs": [],
   "source": []
  },
  {
   "cell_type": "markdown",
   "metadata": {},
   "source": [
    "# TODO: filter out episodes whose length is too long..."
   ]
  },
  {
   "cell_type": "code",
   "execution_count": null,
   "metadata": {},
   "outputs": [],
   "source": []
  },
  {
   "cell_type": "code",
   "execution_count": null,
   "metadata": {},
   "outputs": [],
   "source": []
  },
  {
   "cell_type": "code",
   "execution_count": null,
   "metadata": {},
   "outputs": [],
   "source": []
  },
  {
   "cell_type": "code",
   "execution_count": null,
   "metadata": {},
   "outputs": [],
   "source": []
  }
 ],
 "metadata": {
  "kernelspec": {
   "display_name": "Python 3",
   "language": "python",
   "name": "python3"
  },
  "language_info": {
   "codemirror_mode": {
    "name": "ipython",
    "version": 3
   },
   "file_extension": ".py",
   "mimetype": "text/x-python",
   "name": "python",
   "nbconvert_exporter": "python",
   "pygments_lexer": "ipython3",
   "version": "3.5.2"
  }
 },
 "nbformat": 4,
 "nbformat_minor": 2
}
